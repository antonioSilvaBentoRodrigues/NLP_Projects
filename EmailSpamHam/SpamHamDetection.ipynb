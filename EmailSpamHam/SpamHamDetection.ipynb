{
 "cells": [
  {
   "cell_type": "markdown",
   "id": "1ba09247-3edc-4928-9cd7-027f05f4178d",
   "metadata": {},
   "source": [
    "## Download dataset from kaggle"
   ]
  },
  {
   "cell_type": "code",
   "execution_count": 1,
   "id": "799f1657-9798-4506-934b-10a81cb6d66f",
   "metadata": {},
   "outputs": [
    {
     "name": "stdout",
     "output_type": "stream",
     "text": [
      "Skipping, found downloaded files in \".\\email-spam-detection-v2\" (use force=True to force download)\n"
     ]
    }
   ],
   "source": [
    "import opendatasets as od\n",
    "od.download(\"https://www.kaggle.com/datasets/ahmedhassansaqr/email-spam-detection-v2\")"
   ]
  },
  {
   "cell_type": "markdown",
   "id": "c875fd64-e83c-4508-b6fa-cc809b4b2379",
   "metadata": {},
   "source": [
    "## Load dataset into a dataframe"
   ]
  },
  {
   "cell_type": "code",
   "execution_count": 2,
   "id": "e25d8cf9-e53b-4fa9-ad4a-21ce5c96fb61",
   "metadata": {},
   "outputs": [],
   "source": [
    "import pandas as pd\n",
    "df_email = pd.read_table(\"./email-spam-detection-v2/smsspamcollection.tsv\")"
   ]
  },
  {
   "cell_type": "code",
   "execution_count": 3,
   "id": "0c3f8dc8-7d20-484d-873c-1079023ee37e",
   "metadata": {},
   "outputs": [
    {
     "data": {
      "text/html": [
       "<div>\n",
       "<style scoped>\n",
       "    .dataframe tbody tr th:only-of-type {\n",
       "        vertical-align: middle;\n",
       "    }\n",
       "\n",
       "    .dataframe tbody tr th {\n",
       "        vertical-align: top;\n",
       "    }\n",
       "\n",
       "    .dataframe thead th {\n",
       "        text-align: right;\n",
       "    }\n",
       "</style>\n",
       "<table border=\"1\" class=\"dataframe\">\n",
       "  <thead>\n",
       "    <tr style=\"text-align: right;\">\n",
       "      <th></th>\n",
       "      <th>label</th>\n",
       "      <th>message</th>\n",
       "      <th>length</th>\n",
       "      <th>punct</th>\n",
       "    </tr>\n",
       "  </thead>\n",
       "  <tbody>\n",
       "    <tr>\n",
       "      <th>0</th>\n",
       "      <td>ham</td>\n",
       "      <td>Go until jurong point, crazy.. Available only ...</td>\n",
       "      <td>111</td>\n",
       "      <td>9</td>\n",
       "    </tr>\n",
       "    <tr>\n",
       "      <th>1</th>\n",
       "      <td>ham</td>\n",
       "      <td>Ok lar... Joking wif u oni...</td>\n",
       "      <td>29</td>\n",
       "      <td>6</td>\n",
       "    </tr>\n",
       "    <tr>\n",
       "      <th>2</th>\n",
       "      <td>spam</td>\n",
       "      <td>Free entry in 2 a wkly comp to win FA Cup fina...</td>\n",
       "      <td>155</td>\n",
       "      <td>6</td>\n",
       "    </tr>\n",
       "    <tr>\n",
       "      <th>3</th>\n",
       "      <td>ham</td>\n",
       "      <td>U dun say so early hor... U c already then say...</td>\n",
       "      <td>49</td>\n",
       "      <td>6</td>\n",
       "    </tr>\n",
       "    <tr>\n",
       "      <th>4</th>\n",
       "      <td>ham</td>\n",
       "      <td>Nah I don't think he goes to usf, he lives aro...</td>\n",
       "      <td>61</td>\n",
       "      <td>2</td>\n",
       "    </tr>\n",
       "  </tbody>\n",
       "</table>\n",
       "</div>"
      ],
      "text/plain": [
       "  label                                            message  length  punct\n",
       "0   ham  Go until jurong point, crazy.. Available only ...     111      9\n",
       "1   ham                      Ok lar... Joking wif u oni...      29      6\n",
       "2  spam  Free entry in 2 a wkly comp to win FA Cup fina...     155      6\n",
       "3   ham  U dun say so early hor... U c already then say...      49      6\n",
       "4   ham  Nah I don't think he goes to usf, he lives aro...      61      2"
      ]
     },
     "execution_count": 3,
     "metadata": {},
     "output_type": "execute_result"
    }
   ],
   "source": [
    "df_email.head()"
   ]
  },
  {
   "cell_type": "code",
   "execution_count": 4,
   "id": "4896f41e-a249-431b-8f21-344dc7a2980b",
   "metadata": {},
   "outputs": [
    {
     "data": {
      "text/html": [
       "<div>\n",
       "<style scoped>\n",
       "    .dataframe tbody tr th:only-of-type {\n",
       "        vertical-align: middle;\n",
       "    }\n",
       "\n",
       "    .dataframe tbody tr th {\n",
       "        vertical-align: top;\n",
       "    }\n",
       "\n",
       "    .dataframe thead th {\n",
       "        text-align: right;\n",
       "    }\n",
       "</style>\n",
       "<table border=\"1\" class=\"dataframe\">\n",
       "  <thead>\n",
       "    <tr style=\"text-align: right;\">\n",
       "      <th></th>\n",
       "      <th>label</th>\n",
       "      <th>message</th>\n",
       "      <th>length</th>\n",
       "      <th>punct</th>\n",
       "    </tr>\n",
       "  </thead>\n",
       "  <tbody>\n",
       "    <tr>\n",
       "      <th>5567</th>\n",
       "      <td>spam</td>\n",
       "      <td>This is the 2nd time we have tried 2 contact u...</td>\n",
       "      <td>160</td>\n",
       "      <td>8</td>\n",
       "    </tr>\n",
       "    <tr>\n",
       "      <th>5568</th>\n",
       "      <td>ham</td>\n",
       "      <td>Will ü b going to esplanade fr home?</td>\n",
       "      <td>36</td>\n",
       "      <td>1</td>\n",
       "    </tr>\n",
       "    <tr>\n",
       "      <th>5569</th>\n",
       "      <td>ham</td>\n",
       "      <td>Pity, * was in mood for that. So...any other s...</td>\n",
       "      <td>57</td>\n",
       "      <td>7</td>\n",
       "    </tr>\n",
       "    <tr>\n",
       "      <th>5570</th>\n",
       "      <td>ham</td>\n",
       "      <td>The guy did some bitching but I acted like i'd...</td>\n",
       "      <td>125</td>\n",
       "      <td>1</td>\n",
       "    </tr>\n",
       "    <tr>\n",
       "      <th>5571</th>\n",
       "      <td>ham</td>\n",
       "      <td>Rofl. Its true to its name</td>\n",
       "      <td>26</td>\n",
       "      <td>1</td>\n",
       "    </tr>\n",
       "  </tbody>\n",
       "</table>\n",
       "</div>"
      ],
      "text/plain": [
       "     label                                            message  length  punct\n",
       "5567  spam  This is the 2nd time we have tried 2 contact u...     160      8\n",
       "5568   ham               Will ü b going to esplanade fr home?      36      1\n",
       "5569   ham  Pity, * was in mood for that. So...any other s...      57      7\n",
       "5570   ham  The guy did some bitching but I acted like i'd...     125      1\n",
       "5571   ham                         Rofl. Its true to its name      26      1"
      ]
     },
     "execution_count": 4,
     "metadata": {},
     "output_type": "execute_result"
    }
   ],
   "source": [
    "df_email.tail()"
   ]
  },
  {
   "cell_type": "markdown",
   "id": "43117e50-e739-4cb9-85de-22865864b229",
   "metadata": {},
   "source": [
    "## Data study"
   ]
  },
  {
   "cell_type": "code",
   "execution_count": 5,
   "id": "edc0e860-d073-400f-9176-9b71df8a5139",
   "metadata": {},
   "outputs": [],
   "source": [
    "import numpy as np\n",
    "import random\n",
    "import seaborn as sns\n",
    "import matplotlib.pyplot as plt"
   ]
  },
  {
   "cell_type": "code",
   "execution_count": 6,
   "id": "635406fa-3f40-4769-b288-59b02a78e3fe",
   "metadata": {},
   "outputs": [
    {
     "name": "stdout",
     "output_type": "stream",
     "text": [
      "\n",
      "            Label:ham\n",
      "            Message:Wishing you and your family Merry \"X\" mas and HAPPY NEW Year in advance..\n",
      "            \n",
      "\n",
      "            Label:ham\n",
      "            Message:At 7 we will go ok na.\n",
      "            \n",
      "\n",
      "            Label:ham\n",
      "            Message:Yes I posted a couple of pics on fb. There's still snow outside too. I'm just waking up :)\n",
      "            \n",
      "\n",
      "            Label:ham\n",
      "            Message:S:-)if we have one good partnership going we will take lead:)\n",
      "            \n",
      "\n",
      "            Label:spam\n",
      "            Message:RGENT! This is the 2nd attempt to contact U!U have WON £1250 CALL 09071512433 b4 050703 T&CsBCM4235WC1N3XX. callcost 150ppm mobilesvary. max£7. 50\n",
      "            \n",
      "\n",
      "            Label:ham\n",
      "            Message:Yeah, where's your class at?\n",
      "            \n",
      "\n",
      "            Label:ham\n",
      "            Message:No just send to you. Bec you in temple na.\n",
      "            \n",
      "\n",
      "            Label:ham\n",
      "            Message:You aren't coming home between class, right? I need to work out and shower!\n",
      "            \n",
      "\n",
      "            Label:spam\n",
      "            Message:Hi if ur lookin 4 saucy daytime fun wiv busty married woman Am free all next week Chat now 2 sort time 09099726429 JANINExx Calls£1/minMobsmoreLKPOBOX177HP51FL\n",
      "            \n",
      "\n",
      "            Label:ham\n",
      "            Message:S but mostly not like that.\n",
      "            \n"
     ]
    }
   ],
   "source": [
    "## Visualizing some random samples\n",
    "random_idx = random.randint(0,len(df_email))-10\n",
    "for _,label,message in df_email[[\"label\",\"message\"]][random_idx:random_idx+10].itertuples():\n",
    "    print(f\"\"\"\n",
    "            Label:{label}\n",
    "            Message:{message}\n",
    "            \"\"\")"
   ]
  },
  {
   "cell_type": "code",
   "execution_count": 7,
   "id": "0ea86f5e-599d-4e10-a4dc-f9e5fab095ff",
   "metadata": {},
   "outputs": [
    {
     "data": {
      "image/png": "[encoded data removed]",
      "text/plain": [
       "<Figure size 1000x500 with 1 Axes>"
      ]
     },
     "metadata": {},
     "output_type": "display_data"
    }
   ],
   "source": [
    "plt.figure(figsize=(10, 5))\n",
    "sns.countplot(df_email.label)\n",
    "plt.show()"
   ]
  },
  {
   "cell_type": "code",
   "execution_count": 8,
   "id": "b55ff639-7755-4308-8a8a-7b19c35c24af",
   "metadata": {},
   "outputs": [
    {
     "name": "stdout",
     "output_type": "stream",
     "text": [
      "Average words per phrase 80\n"
     ]
    }
   ],
   "source": [
    "avg_tokens=round(sum([l for l in df_email.length])/len(df_email))\n",
    "print(\"Average words per phrase\", avg_tokens)"
   ]
  },
  {
   "cell_type": "code",
   "execution_count": 9,
   "id": "0b879f10-15f3-4b62-9b00-2a2480ac463f",
   "metadata": {},
   "outputs": [
    {
     "data": {
      "image/png": "[encoded data removed]",
      "text/plain": [
       "<Figure size 1000x500 with 1 Axes>"
      ]
     },
     "metadata": {},
     "output_type": "display_data"
    }
   ],
   "source": [
    "plt.figure(figsize=(10, 5))\n",
    "sns.histplot(df_email.length, kde=True)\n",
    "plt.show()"
   ]
  },
  {
   "cell_type": "code",
   "execution_count": 10,
   "id": "9c79a220-7abc-4641-a844-de83ee6b7366",
   "metadata": {},
   "outputs": [
    {
     "data": {
      "image/png": "[encoded data removed]",
      "text/plain": [
       "<Figure size 640x480 with 1 Axes>"
      ]
     },
     "metadata": {},
     "output_type": "display_data"
    }
   ],
   "source": [
    "sent_len = [l for l in df_email.length]\n",
    "plt.hist(sent_len);"
   ]
  },
  {
   "cell_type": "code",
   "execution_count": 11,
   "id": "ade4cfa0-4ea2-4300-8dcf-c81d6e4a50ef",
   "metadata": {},
   "outputs": [
    {
     "data": {
      "text/plain": [
       "160.0"
      ]
     },
     "execution_count": 11,
     "metadata": {},
     "output_type": "execute_result"
    }
   ],
   "source": [
    "## Length of 95% of the sentences\n",
    "np.percentile(sent_len, 95)"
   ]
  },
  {
   "cell_type": "markdown",
   "id": "35491d01-2659-4447-8982-c2d74ba4f4a5",
   "metadata": {},
   "source": [
    "## Preprocessing text data"
   ]
  },
  {
   "cell_type": "code",
   "execution_count": 12,
   "id": "1dd225fd-e7b6-43b8-b3b7-66a3855d1005",
   "metadata": {},
   "outputs": [],
   "source": [
    "import re\n",
    "import string\n",
    "import nltk\n",
    "from nltk.stem import WordNetLemmatizer\n",
    "from nltk.corpus import stopwords\n",
    "stemmer = WordNetLemmatizer()"
   ]
  },
  {
   "cell_type": "code",
   "execution_count": 13,
   "id": "a3aaca9b-06db-403a-bff1-c67b523bcd08",
   "metadata": {},
   "outputs": [],
   "source": [
    "def clean_text(text):\n",
    "    text = re.sub(\"[^a-zA-Z]\",\" \",text)\n",
    "    text = text.lower()\n",
    "    text = text.split()\n",
    "    [w for w in text if w not in string.punctuation]\n",
    "    [stemmer.lemmatize(w) for w in text if w not in stopwords.words(\"english\")]\n",
    "    text = ' '.join(text)\n",
    "    return text"
   ]
  },
  {
   "cell_type": "code",
   "execution_count": 14,
   "id": "ddb9d2c0-8fa7-4856-adf5-6435d14980bd",
   "metadata": {},
   "outputs": [],
   "source": [
    "df_email[\"clean_message\"] = df_email['message'].map(clean_text)"
   ]
  },
  {
   "cell_type": "code",
   "execution_count": 15,
   "id": "847e82b5-57c9-488f-b852-cf84d65b550a",
   "metadata": {},
   "outputs": [
    {
     "name": "stdout",
     "output_type": "stream",
     "text": [
      "\n",
      "            Label:ham\n",
      "            Message:where at were hungry too\n",
      "            \n",
      "\n",
      "            Label:ham\n",
      "            Message:pls speak to that customer machan\n",
      "            \n",
      "\n",
      "            Label:ham\n",
      "            Message:somewhere out there beneath the pale moon light someone think in of u some where out there where dreams come true goodnite amp sweet dreams\n",
      "            \n",
      "\n",
      "            Label:ham\n",
      "            Message:wen ur lovable bcums angry wid u dnt take it seriously coz being angry is d most childish n true way of showing deep affection care n luv kettoda manda have nice day da\n",
      "            \n",
      "\n",
      "            Label:spam\n",
      "            Message:dear u ve been invited to xchat this is our final attempt to contact u txt chat to p msgrcvdhg suite lands row w j hl ldn yrs\n",
      "            \n",
      "\n",
      "            Label:ham\n",
      "            Message:so wats ur opinion abt him and how abt is character\n",
      "            \n",
      "\n",
      "            Label:ham\n",
      "            Message:jay is snickering and tells me that x is totally fucking up the chords as we speak\n",
      "            \n",
      "\n",
      "            Label:ham\n",
      "            Message:no few hours before went to hair cut\n",
      "            \n",
      "\n",
      "            Label:ham\n",
      "            Message:no wonder cos i dun rem seeing a silver car but i thk i saw a black one\n",
      "            \n",
      "\n",
      "            Label:ham\n",
      "            Message:lmao take a pic and send it to me\n",
      "            \n"
     ]
    }
   ],
   "source": [
    "## Visualizing some random samples\n",
    "random_idx = random.randint(0,len(df_email))-10\n",
    "for _,label,message in df_email[[\"label\",\"clean_message\"]][random_idx:random_idx+10].itertuples():\n",
    "    print(f\"\"\"\n",
    "            Label:{label}\n",
    "            Message:{message}\n",
    "            \"\"\")"
   ]
  },
  {
   "cell_type": "code",
   "execution_count": 16,
   "id": "37618bd3-d663-4723-9af6-efe1350a1509",
   "metadata": {},
   "outputs": [
    {
     "name": "stdout",
     "output_type": "stream",
     "text": [
      "There's a total of 5085 different words\n"
     ]
    }
   ],
   "source": [
    "## How many different words ?\n",
    "words = []\n",
    "[words.append(word) for word in df_email['clean_message'] if word not in words]\n",
    "print(\"There's a total of\",len(words), \"different words\")"
   ]
  },
  {
   "cell_type": "code",
   "execution_count": 17,
   "id": "ffe64c35-c981-4f64-9dc2-c8b1bab8b308",
   "metadata": {},
   "outputs": [
    {
     "data": {
      "image/png": "[encoded data removed]",
      "text/plain": [
       "<Figure size 640x480 with 1 Axes>"
      ]
     },
     "metadata": {},
     "output_type": "display_data"
    }
   ],
   "source": [
    "sent_len = [len(w) for w in df_email['clean_message']]\n",
    "plt.hist(sent_len);"
   ]
  },
  {
   "cell_type": "code",
   "execution_count": 18,
   "id": "498de543-8ddf-442c-aa1e-fe68d464f5ca",
   "metadata": {},
   "outputs": [
    {
     "data": {
      "text/plain": [
       "151.0"
      ]
     },
     "execution_count": 18,
     "metadata": {},
     "output_type": "execute_result"
    }
   ],
   "source": [
    "## Length of 90% of the sentences\n",
    "np.percentile(sent_len, 95)"
   ]
  },
  {
   "cell_type": "markdown",
   "id": "2686beab-4e71-4ef1-b9cb-e51752a8dea6",
   "metadata": {},
   "source": [
    "## Splitting data into independent and dependent features"
   ]
  },
  {
   "cell_type": "code",
   "execution_count": 19,
   "id": "3bbd2ead-ad63-466a-a6b1-35b6b89b2297",
   "metadata": {},
   "outputs": [
    {
     "data": {
      "text/html": [
       "<div>\n",
       "<style scoped>\n",
       "    .dataframe tbody tr th:only-of-type {\n",
       "        vertical-align: middle;\n",
       "    }\n",
       "\n",
       "    .dataframe tbody tr th {\n",
       "        vertical-align: top;\n",
       "    }\n",
       "\n",
       "    .dataframe thead th {\n",
       "        text-align: right;\n",
       "    }\n",
       "</style>\n",
       "<table border=\"1\" class=\"dataframe\">\n",
       "  <thead>\n",
       "    <tr style=\"text-align: right;\">\n",
       "      <th></th>\n",
       "      <th>label</th>\n",
       "      <th>message</th>\n",
       "      <th>length</th>\n",
       "      <th>punct</th>\n",
       "      <th>clean_message</th>\n",
       "    </tr>\n",
       "  </thead>\n",
       "  <tbody>\n",
       "    <tr>\n",
       "      <th>0</th>\n",
       "      <td>ham</td>\n",
       "      <td>Go until jurong point, crazy.. Available only ...</td>\n",
       "      <td>111</td>\n",
       "      <td>9</td>\n",
       "      <td>go until jurong point crazy available only in ...</td>\n",
       "    </tr>\n",
       "    <tr>\n",
       "      <th>1</th>\n",
       "      <td>ham</td>\n",
       "      <td>Ok lar... Joking wif u oni...</td>\n",
       "      <td>29</td>\n",
       "      <td>6</td>\n",
       "      <td>ok lar joking wif u oni</td>\n",
       "    </tr>\n",
       "    <tr>\n",
       "      <th>2</th>\n",
       "      <td>spam</td>\n",
       "      <td>Free entry in 2 a wkly comp to win FA Cup fina...</td>\n",
       "      <td>155</td>\n",
       "      <td>6</td>\n",
       "      <td>free entry in a wkly comp to win fa cup final ...</td>\n",
       "    </tr>\n",
       "    <tr>\n",
       "      <th>3</th>\n",
       "      <td>ham</td>\n",
       "      <td>U dun say so early hor... U c already then say...</td>\n",
       "      <td>49</td>\n",
       "      <td>6</td>\n",
       "      <td>u dun say so early hor u c already then say</td>\n",
       "    </tr>\n",
       "    <tr>\n",
       "      <th>4</th>\n",
       "      <td>ham</td>\n",
       "      <td>Nah I don't think he goes to usf, he lives aro...</td>\n",
       "      <td>61</td>\n",
       "      <td>2</td>\n",
       "      <td>nah i don t think he goes to usf he lives arou...</td>\n",
       "    </tr>\n",
       "  </tbody>\n",
       "</table>\n",
       "</div>"
      ],
      "text/plain": [
       "  label                                            message  length  punct  \\\n",
       "0   ham  Go until jurong point, crazy.. Available only ...     111      9   \n",
       "1   ham                      Ok lar... Joking wif u oni...      29      6   \n",
       "2  spam  Free entry in 2 a wkly comp to win FA Cup fina...     155      6   \n",
       "3   ham  U dun say so early hor... U c already then say...      49      6   \n",
       "4   ham  Nah I don't think he goes to usf, he lives aro...      61      2   \n",
       "\n",
       "                                       clean_message  \n",
       "0  go until jurong point crazy available only in ...  \n",
       "1                            ok lar joking wif u oni  \n",
       "2  free entry in a wkly comp to win fa cup final ...  \n",
       "3        u dun say so early hor u c already then say  \n",
       "4  nah i don t think he goes to usf he lives arou...  "
      ]
     },
     "execution_count": 19,
     "metadata": {},
     "output_type": "execute_result"
    }
   ],
   "source": [
    "df_email.head()"
   ]
  },
  {
   "cell_type": "code",
   "execution_count": 20,
   "id": "0dd87244-3aec-4155-83e9-c00f35de2b39",
   "metadata": {},
   "outputs": [],
   "source": [
    "sentences = df_email.iloc[:,-1].values\n",
    "labels = df_email['label']"
   ]
  },
  {
   "cell_type": "markdown",
   "id": "da9d9264-3950-44b6-8b4d-ab36d98e8e1c",
   "metadata": {},
   "source": [
    "## Splitting data into training and test sets"
   ]
  },
  {
   "cell_type": "code",
   "execution_count": 21,
   "id": "bd10511a-3891-4f87-97cd-44a6e2b7860a",
   "metadata": {},
   "outputs": [],
   "source": [
    "from sklearn.model_selection import train_test_split"
   ]
  },
  {
   "cell_type": "code",
   "execution_count": 22,
   "id": "6277bda8-4eec-409a-bdc5-c363325ea31d",
   "metadata": {},
   "outputs": [],
   "source": [
    "train_sentences, test_sentences, train_labels, test_labels = train_test_split(sentences,\n",
    "                                                                              labels,\n",
    "                                                                              test_size=0.3,\n",
    "                                                                              shuffle=True,\n",
    "                                                                              stratify=labels)"
   ]
  },
  {
   "cell_type": "code",
   "execution_count": 23,
   "id": "b1b70df0-ac78-40cf-a1a7-d9df8329818a",
   "metadata": {},
   "outputs": [
    {
     "data": {
      "text/plain": [
       "((3900,), (3900,), (1672,), (1672,))"
      ]
     },
     "execution_count": 23,
     "metadata": {},
     "output_type": "execute_result"
    }
   ],
   "source": [
    "train_sentences.shape,train_labels.shape, test_sentences.shape,test_labels.shape"
   ]
  },
  {
   "cell_type": "code",
   "execution_count": 24,
   "id": "956febd6-d35e-4874-931c-b1cd940a7309",
   "metadata": {},
   "outputs": [
    {
     "data": {
      "text/plain": [
       "numpy.ndarray"
      ]
     },
     "execution_count": 24,
     "metadata": {},
     "output_type": "execute_result"
    }
   ],
   "source": [
    "type(train_sentences)"
   ]
  },
  {
   "cell_type": "markdown",
   "id": "5c504db5-8b9c-43c2-bf63-854ae9a90d4f",
   "metadata": {},
   "source": [
    "## Encoding labels"
   ]
  },
  {
   "cell_type": "code",
   "execution_count": 25,
   "id": "5ba3aaea-9786-4c96-8468-72d0bdccac3e",
   "metadata": {},
   "outputs": [],
   "source": [
    "from sklearn.preprocessing import LabelEncoder"
   ]
  },
  {
   "cell_type": "code",
   "execution_count": 26,
   "id": "1bac748a-f43f-4af6-b5aa-41ce44d4e6e3",
   "metadata": {},
   "outputs": [],
   "source": [
    "le = LabelEncoder()\n",
    "train_labels = le.fit_transform(train_labels)\n",
    "test_labels = le.transform(test_labels)"
   ]
  },
  {
   "cell_type": "code",
   "execution_count": 27,
   "id": "400163c6-a8f4-4d39-b3c2-3ef2a4898a2c",
   "metadata": {},
   "outputs": [
    {
     "data": {
      "text/plain": [
       "array([0, 1])"
      ]
     },
     "execution_count": 27,
     "metadata": {},
     "output_type": "execute_result"
    }
   ],
   "source": [
    "np.unique(train_labels)"
   ]
  },
  {
   "cell_type": "markdown",
   "id": "2875d4d5-23a7-47cd-8e0d-2b296e8691ab",
   "metadata": {},
   "source": [
    "## Text Vectorization layer creation"
   ]
  },
  {
   "cell_type": "code",
   "execution_count": 28,
   "id": "26562a3d-5d1a-4bef-97de-e87f1f4dfe65",
   "metadata": {},
   "outputs": [],
   "source": [
    "import tensorflow as tf\n",
    "from tensorflow.keras import layers"
   ]
  },
  {
   "cell_type": "code",
   "execution_count": 29,
   "id": "65fa5a09-5525-4ac1-8f87-7632c7c9bfa4",
   "metadata": {},
   "outputs": [],
   "source": [
    "vocab = len(words)\n",
    "opSeqLeng = 151"
   ]
  },
  {
   "cell_type": "code",
   "execution_count": 30,
   "id": "4f531462-0a4f-44a6-a16a-0d723aa704b5",
   "metadata": {},
   "outputs": [],
   "source": [
    "vectorization_layer = layers.TextVectorization(max_tokens=vocab,\n",
    "                                               output_sequence_length=opSeqLeng,\n",
    "                                               pad_to_max_tokens=True)"
   ]
  },
  {
   "cell_type": "code",
   "execution_count": 31,
   "id": "407b023d-2193-4253-98ec-d3553609d357",
   "metadata": {},
   "outputs": [],
   "source": [
    "vectorization_layer.adapt(train_sentences)"
   ]
  },
  {
   "cell_type": "code",
   "execution_count": 32,
   "id": "0cc4054f-85b9-4191-89d1-c22b4c6858d2",
   "metadata": {},
   "outputs": [
    {
     "name": "stdout",
     "output_type": "stream",
     "text": [
      "\n",
      "            Label:ham\n",
      "            Original Message:huh so late fr dinner\n",
      "            Vectorized Message:[599  27 208 789 375   0   0   0   0   0   0   0   0   0   0   0   0   0\n",
      "   0   0   0   0   0   0   0   0   0   0   0   0   0   0   0   0   0   0\n",
      "   0   0   0   0   0   0   0   0   0   0   0   0   0   0   0   0   0   0\n",
      "   0   0   0   0   0   0   0   0   0   0   0   0   0   0   0   0   0   0\n",
      "   0   0   0   0   0   0   0   0   0   0   0   0   0   0   0   0   0   0\n",
      "   0   0   0   0   0   0   0   0   0   0   0   0   0   0   0   0   0   0\n",
      "   0   0   0   0   0   0   0   0   0   0   0   0   0   0   0   0   0   0\n",
      "   0   0   0   0   0   0   0   0   0   0   0   0   0   0   0   0   0   0\n",
      "   0   0   0   0   0   0   0]\n",
      "            \n",
      "\n",
      "            Label:ham\n",
      "            Original Message:hey so this sat are we going for the intro pilates only or the kickboxing too\n",
      "            Vectorized Message:[ 137   27   42  365   22   31   86   14    6 1624 1573   63   30    6\n",
      "    1  133    0    0    0    0    0    0    0    0    0    0    0    0\n",
      "    0    0    0    0    0    0    0    0    0    0    0    0    0    0\n",
      "    0    0    0    0    0    0    0    0    0    0    0    0    0    0\n",
      "    0    0    0    0    0    0    0    0    0    0    0    0    0    0\n",
      "    0    0    0    0    0    0    0    0    0    0    0    0    0    0\n",
      "    0    0    0    0    0    0    0    0    0    0    0    0    0    0\n",
      "    0    0    0    0    0    0    0    0    0    0    0    0    0    0\n",
      "    0    0    0    0    0    0    0    0    0    0    0    0    0    0\n",
      "    0    0    0    0    0    0    0    0    0    0    0    0    0    0\n",
      "    0    0    0    0    0    0    0    0    0    0    0]\n",
      "            \n"
     ]
    }
   ],
   "source": [
    "## Visualizing some random samples\n",
    "random_idx = random.randint(0,len(df_email))-2\n",
    "for _,label,message in df_email[[\"label\",\"clean_message\"]][random_idx:random_idx+2].itertuples():\n",
    "    print(f\"\"\"\n",
    "            Label:{label}\n",
    "            Original Message:{message}\n",
    "            Vectorized Message:{vectorization_layer(message)}\n",
    "            \"\"\")"
   ]
  },
  {
   "cell_type": "markdown",
   "id": "1ae697ee-c9c1-4227-ba1f-49044ac9689d",
   "metadata": {},
   "source": [
    "## Embedding layer"
   ]
  },
  {
   "cell_type": "code",
   "execution_count": 33,
   "id": "50bb215c-1160-47c6-ac91-c7c72505ff56",
   "metadata": {},
   "outputs": [],
   "source": [
    "embedding_layer = layers.Embedding(input_dim=vocab,\n",
    "                                   output_dim=128,\n",
    "                                   mask_zero=True)"
   ]
  },
  {
   "cell_type": "code",
   "execution_count": 34,
   "id": "e33364f8-0866-4806-90da-6e737bed0f0b",
   "metadata": {},
   "outputs": [
    {
     "name": "stdout",
     "output_type": "stream",
     "text": [
      "\n",
      "            Label:spam\n",
      "            Original Message:get lions england tone reply lionm mono or lionp poly more go www ringtones co uk the original n best tones gbp network operator rates apply\n",
      "            Vectorized Message:[  35 2670 1403  248   95 4807 4614   30 4806  668  129   46  139  826\n",
      "  257  191    6 1579   76  259  493  685  398  770 1005  441    0    0\n",
      "    0    0    0    0    0    0    0    0    0    0    0    0    0    0\n",
      "    0    0    0    0    0    0    0    0    0    0    0    0    0    0\n",
      "    0    0    0    0    0    0    0    0    0    0    0    0    0    0\n",
      "    0    0    0    0    0    0    0    0    0    0    0    0    0    0\n",
      "    0    0    0    0    0    0    0    0    0    0    0    0    0    0\n",
      "    0    0    0    0    0    0    0    0    0    0    0    0    0    0\n",
      "    0    0    0    0    0    0    0    0    0    0    0    0    0    0\n",
      "    0    0    0    0    0    0    0    0    0    0    0    0    0    0\n",
      "    0    0    0    0    0    0    0    0    0    0    0]\n",
      "            Embeded Message:[[-0.01259729 -0.01038874  0.01320818 ...  0.00041223  0.03568516\n",
      "   0.01179297]\n",
      " [-0.0360121  -0.03986474  0.04268566 ... -0.00930238  0.00926236\n",
      "  -0.03377221]\n",
      " [-0.00415784 -0.04182869 -0.03816076 ...  0.00246749 -0.03193376\n",
      "  -0.01339561]\n",
      " ...\n",
      " [ 0.04909208 -0.01413506 -0.03418707 ...  0.04939825  0.04390385\n",
      "   0.03607189]\n",
      " [ 0.04909208 -0.01413506 -0.03418707 ...  0.04939825  0.04390385\n",
      "   0.03607189]\n",
      " [ 0.04909208 -0.01413506 -0.03418707 ...  0.04939825  0.04390385\n",
      "   0.03607189]]\n",
      "            \n",
      "\n",
      "            Label:ham\n",
      "            Original Message:i jokin oni lar busy then i wun disturb\n",
      "            Vectorized Message:[   2 2704 1581  297  487   61    2  968 1406    0    0    0    0    0\n",
      "    0    0    0    0    0    0    0    0    0    0    0    0    0    0\n",
      "    0    0    0    0    0    0    0    0    0    0    0    0    0    0\n",
      "    0    0    0    0    0    0    0    0    0    0    0    0    0    0\n",
      "    0    0    0    0    0    0    0    0    0    0    0    0    0    0\n",
      "    0    0    0    0    0    0    0    0    0    0    0    0    0    0\n",
      "    0    0    0    0    0    0    0    0    0    0    0    0    0    0\n",
      "    0    0    0    0    0    0    0    0    0    0    0    0    0    0\n",
      "    0    0    0    0    0    0    0    0    0    0    0    0    0    0\n",
      "    0    0    0    0    0    0    0    0    0    0    0    0    0    0\n",
      "    0    0    0    0    0    0    0    0    0    0    0]\n",
      "            Embeded Message:[[-0.02525277 -0.00622983 -0.00441685 ...  0.02682645 -0.04685777\n",
      "   0.02358563]\n",
      " [-0.01578139  0.04882933 -0.02778198 ...  0.0130785   0.02184523\n",
      "  -0.04915946]\n",
      " [ 0.02936311  0.04764381 -0.02983649 ... -0.01793895 -0.03886328\n",
      "  -0.01457928]\n",
      " ...\n",
      " [ 0.04909208 -0.01413506 -0.03418707 ...  0.04939825  0.04390385\n",
      "   0.03607189]\n",
      " [ 0.04909208 -0.01413506 -0.03418707 ...  0.04939825  0.04390385\n",
      "   0.03607189]\n",
      " [ 0.04909208 -0.01413506 -0.03418707 ...  0.04939825  0.04390385\n",
      "   0.03607189]]\n",
      "            \n"
     ]
    }
   ],
   "source": [
    "## Visualizing some random samples\n",
    "random_idx = random.randint(0,len(df_email))-2\n",
    "for _,label,message in df_email[[\"label\",\"clean_message\"]][random_idx:random_idx+2].itertuples():\n",
    "    print(f\"\"\"\n",
    "            Label:{label}\n",
    "            Original Message:{message}\n",
    "            Vectorized Message:{vectorization_layer(message)}\n",
    "            Embeded Message:{embedding_layer(vectorization_layer(message))}\n",
    "            \"\"\")"
   ]
  },
  {
   "cell_type": "markdown",
   "id": "84ce726f-cff9-4fcd-a2ee-59cd0594f6a7",
   "metadata": {},
   "source": [
    "## Creation of train and test datasets"
   ]
  },
  {
   "cell_type": "code",
   "execution_count": 35,
   "id": "da1a674c-da5f-4c33-aae1-e50b88c90137",
   "metadata": {},
   "outputs": [],
   "source": [
    "train_sentences = tf.data.Dataset.from_tensor_slices((train_sentences)) \n",
    "test_sentences = tf.data.Dataset.from_tensor_slices((test_sentences)) \n",
    "train_labels = tf.data.Dataset.from_tensor_slices((train_labels)) \n",
    "test_labels = tf.data.Dataset.from_tensor_slices((test_labels)) "
   ]
  },
  {
   "cell_type": "code",
   "execution_count": 36,
   "id": "932b992b-1c47-497e-9695-125ab464c145",
   "metadata": {},
   "outputs": [],
   "source": [
    "train_dataset = tf.data.Dataset.zip((train_sentences, train_labels)).batch(32).prefetch(tf.data.AUTOTUNE)\n",
    "test_dataset = tf.data.Dataset.zip((test_sentences, test_labels)).batch(32).prefetch(tf.data.AUTOTUNE)"
   ]
  },
  {
   "cell_type": "markdown",
   "id": "a3ff42bc-2d9f-4fcd-b055-3379da83485e",
   "metadata": {},
   "source": [
    "## Running some experiments"
   ]
  },
  {
   "cell_type": "code",
   "execution_count": 37,
   "id": "ddec882b-4531-4fa9-bf89-3c4498fe5911",
   "metadata": {},
   "outputs": [],
   "source": [
    "from tensorflow.keras.optimizers import Adam"
   ]
  },
  {
   "cell_type": "markdown",
   "id": "2c5aa506-cc16-4476-b13d-b09d88566a33",
   "metadata": {},
   "source": [
    "#### Building model_0 : Simple Dense model"
   ]
  },
  {
   "cell_type": "code",
   "execution_count": 38,
   "id": "8eac87b6-e9a9-4638-bd1f-02ca654cce72",
   "metadata": {},
   "outputs": [],
   "source": [
    "inputs = layers.Input(shape=(1,), dtype=tf.string, name='input_layer')\n",
    "vec_txt = vectorization_layer(inputs)\n",
    "embed_txt = embedding_layer(vec_txt)\n",
    "x =layers.Dense(128, activation='relu')(embed_txt)\n",
    "x = layers.Flatten()(x)\n",
    "outputs = layers.Dense(1, activation=\"sigmoid\")(x)\n",
    "model_0 = tf.keras.Model(inputs, outputs, name='dense_model')"
   ]
  },
  {
   "cell_type": "code",
   "execution_count": 39,
   "id": "43a5127f-6114-4510-b6ce-e4bb63d047a6",
   "metadata": {},
   "outputs": [],
   "source": [
    "model_0.compile(loss=\"binary_crossentropy\",\n",
    "                optimizer=Adam(),\n",
    "                metrics=['accuracy'])"
   ]
  },
  {
   "cell_type": "code",
   "execution_count": 40,
   "id": "7407eaa8-9fcb-4e4e-a1ca-210a6cbc4482",
   "metadata": {},
   "outputs": [
    {
     "name": "stdout",
     "output_type": "stream",
     "text": [
      "Model: \"dense_model\"\n",
      "_________________________________________________________________\n",
      " Layer (type)                Output Shape              Param #   \n",
      "=================================================================\n",
      " input_layer (InputLayer)    [(None, 1)]               0         \n",
      "                                                                 \n",
      " text_vectorization (TextVec  (None, 151)              0         \n",
      " torization)                                                     \n",
      "                                                                 \n",
      " embedding (Embedding)       (None, 151, 128)          650880    \n",
      "                                                                 \n",
      " dense (Dense)               (None, 151, 128)          16512     \n",
      "                                                                 \n",
      " flatten (Flatten)           (None, 19328)             0         \n",
      "                                                                 \n",
      " dense_1 (Dense)             (None, 1)                 19329     \n",
      "                                                                 \n",
      "=================================================================\n",
      "Total params: 686,721\n",
      "Trainable params: 686,721\n",
      "Non-trainable params: 0\n",
      "_________________________________________________________________\n"
     ]
    }
   ],
   "source": [
    "model_0.summary()"
   ]
  },
  {
   "cell_type": "code",
   "execution_count": 41,
   "id": "c2d403d9-61a7-426f-a74d-1538155e90b0",
   "metadata": {},
   "outputs": [
    {
     "name": "stdout",
     "output_type": "stream",
     "text": [
      "Epoch 1/5\n",
      "122/122 [==============================] - 2s 6ms/step - loss: 0.2634 - accuracy: 0.9072 - val_loss: 0.0783 - val_accuracy: 0.9732\n",
      "Epoch 2/5\n",
      "122/122 [==============================] - 1s 5ms/step - loss: 0.0350 - accuracy: 0.9885 - val_loss: 0.0460 - val_accuracy: 0.9866\n",
      "Epoch 3/5\n",
      "122/122 [==============================] - 1s 5ms/step - loss: 0.0114 - accuracy: 0.9969 - val_loss: 0.0427 - val_accuracy: 0.9866\n",
      "Epoch 4/5\n",
      "122/122 [==============================] - 1s 5ms/step - loss: 0.0043 - accuracy: 0.9992 - val_loss: 0.0496 - val_accuracy: 0.9911\n",
      "Epoch 5/5\n",
      "122/122 [==============================] - 1s 5ms/step - loss: 0.0023 - accuracy: 0.9995 - val_loss: 0.0535 - val_accuracy: 0.9911\n"
     ]
    }
   ],
   "source": [
    "## fit the model\n",
    "model_0_history = model_0.fit(train_dataset,\n",
    "                              epochs=5,\n",
    "                              steps_per_epoch=int(len(train_dataset)),\n",
    "                              validation_data=test_dataset,\n",
    "                              validation_steps=int(0.15*len(test_dataset))) #validates only on 15% of test data"
   ]
  },
  {
   "cell_type": "code",
   "execution_count": 42,
   "id": "9628e002-844f-448a-93b6-c215b91f50cb",
   "metadata": {},
   "outputs": [
    {
     "name": "stdout",
     "output_type": "stream",
     "text": [
      "53/53 [==============================] - 0s 3ms/step - loss: 0.0754 - accuracy: 0.9844\n"
     ]
    },
    {
     "data": {
      "text/plain": [
       "[0.07541853189468384, 0.9844497442245483]"
      ]
     },
     "execution_count": 42,
     "metadata": {},
     "output_type": "execute_result"
    }
   ],
   "source": [
    "model_0.evaluate(test_dataset)"
   ]
  },
  {
   "cell_type": "markdown",
   "id": "1e511060-69e9-4b4c-9c57-c4b567307be0",
   "metadata": {},
   "source": [
    "## Evaluate the model"
   ]
  },
  {
   "cell_type": "code",
   "execution_count": 53,
   "id": "981cb9cc-4bab-4c0b-a410-19f0cdb87978",
   "metadata": {},
   "outputs": [],
   "source": [
    "from sklearn import metrics"
   ]
  },
  {
   "cell_type": "code",
   "execution_count": 45,
   "id": "6600d8b6-1d41-437e-a21c-8b010ade6c39",
   "metadata": {},
   "outputs": [
    {
     "name": "stdout",
     "output_type": "stream",
     "text": [
      "53/53 [==============================] - 0s 7ms/step\n"
     ]
    }
   ],
   "source": [
    "y_pred_probs = model_0.predict(test_dataset)\n",
    "y_preds = tf.squeeze(tf.round(y_pred_probs))"
   ]
  },
  {
   "cell_type": "code",
   "execution_count": 49,
   "id": "655fadc8-42ae-4e57-b962-969d6e8fb769",
   "metadata": {},
   "outputs": [],
   "source": [
    "y_true=[]\n",
    "for _,label in test_dataset.unbatch():\n",
    "    y_true.append(label.numpy())"
   ]
  },
  {
   "cell_type": "code",
   "execution_count": 51,
   "id": "38c58be8-af27-4cd7-86af-c3d895425f9d",
   "metadata": {},
   "outputs": [],
   "source": [
    "y_true = np.array(y_true).flatten()"
   ]
  },
  {
   "cell_type": "code",
   "execution_count": 52,
   "id": "beab6659-e2e6-4888-bf3c-e5500677c2f7",
   "metadata": {},
   "outputs": [
    {
     "data": {
      "text/plain": [
       "array([0, 0, 0, ..., 0, 0, 0])"
      ]
     },
     "execution_count": 52,
     "metadata": {},
     "output_type": "execute_result"
    }
   ],
   "source": [
    "y_true"
   ]
  },
  {
   "cell_type": "code",
   "execution_count": 54,
   "id": "0923d390-649c-49a3-b93f-78260f7499cd",
   "metadata": {},
   "outputs": [
    {
     "name": "stdout",
     "output_type": "stream",
     "text": [
      "Accuracy:98.44%\n"
     ]
    },
    {
     "data": {
      "image/png": "[encoded data removed]",
      "text/plain": [
       "<Figure size 640x480 with 2 Axes>"
      ]
     },
     "metadata": {},
     "output_type": "display_data"
    },
    {
     "name": "stdout",
     "output_type": "stream",
     "text": [
      "              precision    recall  f1-score   support\n",
      "\n",
      "           0       0.99      1.00      0.99      1448\n",
      "           1       0.97      0.91      0.94       224\n",
      "\n",
      "    accuracy                           0.98      1672\n",
      "   macro avg       0.98      0.95      0.97      1672\n",
      "weighted avg       0.98      0.98      0.98      1672\n",
      "\n"
     ]
    }
   ],
   "source": [
    "print(f'Accuracy:{metrics.accuracy_score(y_true, y_preds)*100:.2f}%')\n",
    "cm = metrics.confusion_matrix(y_true, y_preds)\n",
    "disp = metrics.ConfusionMatrixDisplay(cm)\n",
    "disp.plot()\n",
    "plt.show()\n",
    "print(metrics.classification_report(y_true, y_preds))"
   ]
  }
 ],
 "metadata": {
  "kernelspec": {
   "display_name": "Python 3 (ipykernel)",
   "language": "python",
   "name": "python3"
  },
  "language_info": {
   "codemirror_mode": {
    "name": "ipython",
    "version": 3
   },
   "file_extension": ".py",
   "mimetype": "text/x-python",
   "name": "python",
   "nbconvert_exporter": "python",
   "pygments_lexer": "ipython3",
   "version": "3.9.19"
  }
 },
 "nbformat": 4,
 "nbformat_minor": 5
}
