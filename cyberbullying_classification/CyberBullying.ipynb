{
 "cells": [
  {
   "cell_type": "code",
   "execution_count": 1,
   "id": "04dcc6ee-557a-436f-80da-150fac317ad8",
   "metadata": {},
   "outputs": [],
   "source": [
    "import opendatasets as od\n",
    "import pandas as pd\n",
    "import numpy as np\n",
    "import random\n",
    "import re\n",
    "import string\n",
    "import cleantext\n",
    "import tensorflow as tf\n",
    "from tensorflow.keras import layers\n",
    "from tensorflow.keras.optimizers import Adam\n",
    "from tensorflow.keras.utils import plot_model\n",
    "from nltk.corpus import stopwords\n",
    "from nltk.stem import WordNetLemmatizer\n",
    "from sklearn.model_selection import train_test_split\n",
    "from sklearn.preprocessing import LabelEncoder\n",
    "from sklearn.feature_extraction.text import CountVectorizer,TfidfVectorizer\n",
    "from sklearn.ensemble import RandomForestClassifier\n",
    "from sklearn.metrics import precision_recall_fscore_support, confusion_matrix, ConfusionMatrixDisplay, classification_report\n",
    "import seaborn as sns\n",
    "import matplotlib.pyplot as plt"
   ]
  },
  {
   "cell_type": "markdown",
   "id": "85ad534e-0eb5-4710-aae3-dbaa1c7f36ef",
   "metadata": {},
   "source": [
    "## Download dataset"
   ]
  },
  {
   "cell_type": "code",
   "execution_count": 2,
   "id": "afdafb29-7a03-40ce-ab18-276fd4103c5c",
   "metadata": {},
   "outputs": [
    {
     "name": "stdout",
     "output_type": "stream",
     "text": [
      "Skipping, found downloaded files in \".\\cyberbullying-classification\" (use force=True to force download)\n"
     ]
    }
   ],
   "source": [
    "od.download(\"https://www.kaggle.com/datasets/andrewmvd/cyberbullying-classification\")"
   ]
  },
  {
   "cell_type": "markdown",
   "id": "aa04504c-3f95-41a3-8f00-4d392c0df9a3",
   "metadata": {},
   "source": [
    "## Load dataset"
   ]
  },
  {
   "cell_type": "code",
   "execution_count": 3,
   "id": "c751f3af-6e97-4c72-81ce-d7284143cf63",
   "metadata": {},
   "outputs": [],
   "source": [
    "df_bullying = pd.read_csv(\"cyberbullying-classification/cyberbullying_tweets.csv\")"
   ]
  },
  {
   "cell_type": "code",
   "execution_count": 4,
   "id": "966f34fd-5078-4e24-a92d-646f9a118d62",
   "metadata": {},
   "outputs": [
    {
     "data": {
      "text/html": [
       "<div>\n",
       "<style scoped>\n",
       "    .dataframe tbody tr th:only-of-type {\n",
       "        vertical-align: middle;\n",
       "    }\n",
       "\n",
       "    .dataframe tbody tr th {\n",
       "        vertical-align: top;\n",
       "    }\n",
       "\n",
       "    .dataframe thead th {\n",
       "        text-align: right;\n",
       "    }\n",
       "</style>\n",
       "<table border=\"1\" class=\"dataframe\">\n",
       "  <thead>\n",
       "    <tr style=\"text-align: right;\">\n",
       "      <th></th>\n",
       "      <th>tweet_text</th>\n",
       "      <th>cyberbullying_type</th>\n",
       "    </tr>\n",
       "  </thead>\n",
       "  <tbody>\n",
       "    <tr>\n",
       "      <th>0</th>\n",
       "      <td>In other words #katandandre, your food was cra...</td>\n",
       "      <td>not_cyberbullying</td>\n",
       "    </tr>\n",
       "    <tr>\n",
       "      <th>1</th>\n",
       "      <td>Why is #aussietv so white? #MKR #theblock #ImA...</td>\n",
       "      <td>not_cyberbullying</td>\n",
       "    </tr>\n",
       "    <tr>\n",
       "      <th>2</th>\n",
       "      <td>@XochitlSuckkks a classy whore? Or more red ve...</td>\n",
       "      <td>not_cyberbullying</td>\n",
       "    </tr>\n",
       "    <tr>\n",
       "      <th>3</th>\n",
       "      <td>@Jason_Gio meh. :P  thanks for the heads up, b...</td>\n",
       "      <td>not_cyberbullying</td>\n",
       "    </tr>\n",
       "    <tr>\n",
       "      <th>4</th>\n",
       "      <td>@RudhoeEnglish This is an ISIS account pretend...</td>\n",
       "      <td>not_cyberbullying</td>\n",
       "    </tr>\n",
       "  </tbody>\n",
       "</table>\n",
       "</div>"
      ],
      "text/plain": [
       "                                          tweet_text cyberbullying_type\n",
       "0  In other words #katandandre, your food was cra...  not_cyberbullying\n",
       "1  Why is #aussietv so white? #MKR #theblock #ImA...  not_cyberbullying\n",
       "2  @XochitlSuckkks a classy whore? Or more red ve...  not_cyberbullying\n",
       "3  @Jason_Gio meh. :P  thanks for the heads up, b...  not_cyberbullying\n",
       "4  @RudhoeEnglish This is an ISIS account pretend...  not_cyberbullying"
      ]
     },
     "execution_count": 4,
     "metadata": {},
     "output_type": "execute_result"
    }
   ],
   "source": [
    "df_bullying.head()"
   ]
  },
  {
   "cell_type": "markdown",
   "id": "75084cd9-666c-4079-8efa-eba157b99b41",
   "metadata": {},
   "source": [
    "## Dataset exploration"
   ]
  },
  {
   "cell_type": "code",
   "execution_count": 5,
   "id": "70563a41-cb6e-405a-a90f-b2fad3325298",
   "metadata": {},
   "outputs": [
    {
     "data": {
      "text/plain": [
       "tweet_text            0\n",
       "cyberbullying_type    0\n",
       "dtype: int64"
      ]
     },
     "execution_count": 5,
     "metadata": {},
     "output_type": "execute_result"
    }
   ],
   "source": [
    "df_bullying.isnull().sum()"
   ]
  },
  {
   "cell_type": "code",
   "execution_count": 6,
   "id": "6ce3cadc-afdf-4c17-a53e-67cdd194c3dd",
   "metadata": {},
   "outputs": [
    {
     "name": "stdout",
     "output_type": "stream",
     "text": [
      "<class 'pandas.core.frame.DataFrame'>\n",
      "RangeIndex: 47692 entries, 0 to 47691\n",
      "Data columns (total 2 columns):\n",
      " #   Column              Non-Null Count  Dtype \n",
      "---  ------              --------------  ----- \n",
      " 0   tweet_text          47692 non-null  object\n",
      " 1   cyberbullying_type  47692 non-null  object\n",
      "dtypes: object(2)\n",
      "memory usage: 745.3+ KB\n"
     ]
    }
   ],
   "source": [
    "df_bullying.info()"
   ]
  },
  {
   "cell_type": "code",
   "execution_count": 7,
   "id": "61631223-626c-4c06-a541-3ea5af885f0d",
   "metadata": {},
   "outputs": [
    {
     "data": {
      "text/plain": [
       "array(['not_cyberbullying', 'gender', 'religion', 'other_cyberbullying',\n",
       "       'age', 'ethnicity'], dtype=object)"
      ]
     },
     "execution_count": 7,
     "metadata": {},
     "output_type": "execute_result"
    }
   ],
   "source": [
    "df_bullying['cyberbullying_type'].unique()"
   ]
  },
  {
   "cell_type": "code",
   "execution_count": 8,
   "id": "fb28ecf6-5c43-40f3-b678-897cc7f92bc5",
   "metadata": {},
   "outputs": [
    {
     "data": {
      "image/png": "[encoded data removed]",
      "text/plain": [
       "<Figure size 640x480 with 1 Axes>"
      ]
     },
     "metadata": {},
     "output_type": "display_data"
    }
   ],
   "source": [
    "sns.countplot(df_bullying['cyberbullying_type'])\n",
    "plt.show()"
   ]
  },
  {
   "cell_type": "code",
   "execution_count": 9,
   "id": "c86729a9-c94c-4511-88d2-6cafa44552e0",
   "metadata": {},
   "outputs": [
    {
     "name": "stdout",
     "output_type": "stream",
     "text": [
      "Text:ISLAM MY Father Allah Almighty Never was, is, nor neither will be a Terrorist, Extremist, ISIS, Suicide Bombers of all the Stupid names you called the ALmighty, these phrases simply are NOT in the HOLY Quran Sharif. Get the TRUTH straight who did this to Hate ISLAM? ANSWER ME?!!\n",
      "Label:religion\n",
      "Text:What about the demographic change of kashmiri pandits by Islamic terrorism. Kashmir belongs to also pandits and they want to be with India. If you want azad kashmir then u can shift to POK azad kashmir.\n",
      "Label:religion\n",
      "Text:WELL, MATT...ISIS IS IN THE HEARTS AND BRAINS OF EVERY MUSLIM. IF A YOUNG MUSLIM MAN IS TAKING HIS QURAN'S TEACHING SERIOUSLY AS TO \"KILL ALL INFIDELS\" IT DOESN'T TAKE MUCH TO GET THE ISIS LONE TERRORIST COMING OUTOF HIM. HERE OR IN THE MIDDLE EAST ANYWHERE. IT AIN'T WIPED OUT\n",
      "Label:religion\n",
      "Text:I am Chinese, I have some Muslim friends from Xinjiang, I have also been to Xi’an where the main population is Muslims, I want to say that everything you say is false, Stop dreaming you are savior of Asian,idiots\n",
      "Label:religion\n",
      "Text:Hatred spread by india world countriesgovt which against Muslims islam religion as their government policy the countries do the crimes against humanity on their own people-Citizens Put the Blame on innocent Muslims Islamic jihad terrorist to escape from the UNO Law of the land\n",
      "Label:religion\n",
      "Text:Translation: if they don’t support your radical right, xenophobic, ‘Christian’ ( Christian in quotes because Jesus’ teachings are largely antithetical to your words and actions), white supremacy supporting, anti-democracy, blatherings then you believe they shouldn’t be funded\n",
      "Label:religion\n",
      "Text:Ironically, those fighting for gun reform also need loyal foot soldiers who will appeal to the thousands of white evangelicals, radical traditionalist Catholics and other Christian extremists who support gun control. Too easy to paint all members of a group in a single colour.\n",
      "Label:religion\n",
      "Text:I can’t read the article because it’s behind a pay wall but I’m just curious about what her stances on women’s rights and women’s reproductive rights as a Christian woman. Thanks\n",
      "Label:religion\n",
      "Text:@BDSSupporter The Zionist label is just something scum like you use to attack Jews.\n",
      "Label:religion\n",
      "Text:No she’s not. But she is a complete idiot &amp;can’t understand normal thinking if you know what I mean. I dont understand why they let violent criminals out of jail but people going to church (specifically Christians&amp;Jews because Muslims were allowed to go) are getting arrested.\n",
      "Label:religion\n"
     ]
    }
   ],
   "source": [
    "##plotting random text samples \n",
    "random_index = random.randint(0,len(df_bullying)-10)\n",
    "for _,text,label in df_bullying[['tweet_text','cyberbullying_type']][random_index:random_index+10].itertuples():\n",
    "    print(f'Text:{text}\\nLabel:{label}')"
   ]
  },
  {
   "cell_type": "markdown",
   "id": "20b6c8ab-822a-44ab-888e-b0913c35c344",
   "metadata": {},
   "source": [
    "## Text preprocessing"
   ]
  },
  {
   "cell_type": "code",
   "execution_count": 10,
   "id": "8bd02b00-3a4d-435a-938d-5c610cdfddd7",
   "metadata": {},
   "outputs": [],
   "source": [
    "def remove_urls(text):\n",
    "    text = text.split()\n",
    "    text = ' '.join([word for word in text if word[:4]!='http'])\n",
    "    return text\n",
    "    \n",
    "def remove_user_names(text):\n",
    "    text = text.split()\n",
    "    text = ' '.join([word for word in text if word[0]!='@'])\n",
    "    return text\n",
    "    \n",
    "def remove_emojis(text):\n",
    "    text = text.split()\n",
    "    text = ' '.join([cleantext.clean(word,no_emoji=True) for word in text])\n",
    "    return text\n",
    "\n",
    "def remove_hastags(text):\n",
    "    text = text.split()\n",
    "    text = ' '.join([word for word in text if word[0]!='#'])\n",
    "    return text"
   ]
  },
  {
   "cell_type": "code",
   "execution_count": 11,
   "id": "f314905a-3482-4f66-83ca-cbcc397fd257",
   "metadata": {},
   "outputs": [],
   "source": [
    "## Cleaning the text from unnecessary punctuation , stopwords etc\n",
    "## Lemmatize words\n",
    "\n",
    "lemmatizer = WordNetLemmatizer()\n",
    "def clean_and_lemmatize(text):\n",
    "    text = re.sub('^a-zA-Z',' ', text)\n",
    "    text = re.sub('[\\d-]', ' ', text)\n",
    "    text = text.lower()\n",
    "    text = text.split()\n",
    "    [word for word in text if word not in string.punctuation]\n",
    "    [lemmatizer.lemmatize(word) for word in text if word not in stopwords.words('english')]\n",
    "    text = ' '.join(text)\n",
    "    if len(text)>0:\n",
    "        return text\n",
    "    else:\n",
    "        pass"
   ]
  },
  {
   "cell_type": "code",
   "execution_count": 12,
   "id": "57545077-6eb1-4962-a4d1-7fdfc643085d",
   "metadata": {},
   "outputs": [],
   "source": [
    "df_bullying['text_clean']=df_bullying['tweet_text'].apply(remove_urls)\n",
    "df_bullying['text_clean']=df_bullying['text_clean'].apply(remove_user_names)\n",
    "df_bullying['text_clean']=df_bullying['text_clean'].apply(remove_emojis)\n",
    "df_bullying['text_clean']=df_bullying['text_clean'].apply(remove_hastags)"
   ]
  },
  {
   "cell_type": "code",
   "execution_count": 13,
   "id": "dfe1e02f-aaf1-4701-9137-3c6007924667",
   "metadata": {},
   "outputs": [],
   "source": [
    "df_bullying['text_clean']=df_bullying['text_clean'].apply(clean_and_lemmatize)"
   ]
  },
  {
   "cell_type": "code",
   "execution_count": 14,
   "id": "21b2ad9d-0419-49e1-9f7c-c14a29ac9855",
   "metadata": {},
   "outputs": [
    {
     "data": {
      "text/plain": [
       "text_clean    367\n",
       "dtype: int64"
      ]
     },
     "execution_count": 14,
     "metadata": {},
     "output_type": "execute_result"
    }
   ],
   "source": [
    "df_bullying[['text_clean']].isnull().sum()"
   ]
  },
  {
   "cell_type": "code",
   "execution_count": 15,
   "id": "50749667-ab62-4bcf-85e2-2eed68047bef",
   "metadata": {},
   "outputs": [
    {
     "data": {
      "text/html": [
       "<div>\n",
       "<style scoped>\n",
       "    .dataframe tbody tr th:only-of-type {\n",
       "        vertical-align: middle;\n",
       "    }\n",
       "\n",
       "    .dataframe tbody tr th {\n",
       "        vertical-align: top;\n",
       "    }\n",
       "\n",
       "    .dataframe thead th {\n",
       "        text-align: right;\n",
       "    }\n",
       "</style>\n",
       "<table border=\"1\" class=\"dataframe\">\n",
       "  <thead>\n",
       "    <tr style=\"text-align: right;\">\n",
       "      <th></th>\n",
       "      <th>tweet_text</th>\n",
       "      <th>cyberbullying_type</th>\n",
       "      <th>text_clean</th>\n",
       "    </tr>\n",
       "  </thead>\n",
       "  <tbody>\n",
       "    <tr>\n",
       "      <th>0</th>\n",
       "      <td>In other words #katandandre, your food was cra...</td>\n",
       "      <td>not_cyberbullying</td>\n",
       "      <td>in other words your food was crapilicious!</td>\n",
       "    </tr>\n",
       "    <tr>\n",
       "      <th>1</th>\n",
       "      <td>Why is #aussietv so white? #MKR #theblock #ImA...</td>\n",
       "      <td>not_cyberbullying</td>\n",
       "      <td>why is so white?</td>\n",
       "    </tr>\n",
       "    <tr>\n",
       "      <th>2</th>\n",
       "      <td>@XochitlSuckkks a classy whore? Or more red ve...</td>\n",
       "      <td>not_cyberbullying</td>\n",
       "      <td>a classy whore? or more red velvet cupcakes?</td>\n",
       "    </tr>\n",
       "    <tr>\n",
       "      <th>3</th>\n",
       "      <td>@Jason_Gio meh. :P  thanks for the heads up, b...</td>\n",
       "      <td>not_cyberbullying</td>\n",
       "      <td>meh. :p thanks for the heads up, but not too c...</td>\n",
       "    </tr>\n",
       "    <tr>\n",
       "      <th>4</th>\n",
       "      <td>@RudhoeEnglish This is an ISIS account pretend...</td>\n",
       "      <td>not_cyberbullying</td>\n",
       "      <td>this is an isis account pretending to be a kur...</td>\n",
       "    </tr>\n",
       "    <tr>\n",
       "      <th>...</th>\n",
       "      <td>...</td>\n",
       "      <td>...</td>\n",
       "      <td>...</td>\n",
       "    </tr>\n",
       "    <tr>\n",
       "      <th>47320</th>\n",
       "      <td>Black ppl aren't expected to do anything, depe...</td>\n",
       "      <td>ethnicity</td>\n",
       "      <td>black ppl aren't expected to do anything, depe...</td>\n",
       "    </tr>\n",
       "    <tr>\n",
       "      <th>47321</th>\n",
       "      <td>Turner did not withhold his disappointment. Tu...</td>\n",
       "      <td>ethnicity</td>\n",
       "      <td>turner did not withhold his disappointment. tu...</td>\n",
       "    </tr>\n",
       "    <tr>\n",
       "      <th>47322</th>\n",
       "      <td>I swear to God. This dumb nigger bitch. I have...</td>\n",
       "      <td>ethnicity</td>\n",
       "      <td>i swear to god. this dumb nigger bitch. i have...</td>\n",
       "    </tr>\n",
       "    <tr>\n",
       "      <th>47323</th>\n",
       "      <td>Yea fuck you RT @therealexel: IF YOURE A NIGGE...</td>\n",
       "      <td>ethnicity</td>\n",
       "      <td>yea fuck you rt if youre a nigger fucking unfo...</td>\n",
       "    </tr>\n",
       "    <tr>\n",
       "      <th>47324</th>\n",
       "      <td>Bro. U gotta chill RT @CHILLShrammy: Dog FUCK ...</td>\n",
       "      <td>ethnicity</td>\n",
       "      <td>bro. u gotta chill rt dog fuck kp that dumb ni...</td>\n",
       "    </tr>\n",
       "  </tbody>\n",
       "</table>\n",
       "<p>47325 rows × 3 columns</p>\n",
       "</div>"
      ],
      "text/plain": [
       "                                              tweet_text cyberbullying_type  \\\n",
       "0      In other words #katandandre, your food was cra...  not_cyberbullying   \n",
       "1      Why is #aussietv so white? #MKR #theblock #ImA...  not_cyberbullying   \n",
       "2      @XochitlSuckkks a classy whore? Or more red ve...  not_cyberbullying   \n",
       "3      @Jason_Gio meh. :P  thanks for the heads up, b...  not_cyberbullying   \n",
       "4      @RudhoeEnglish This is an ISIS account pretend...  not_cyberbullying   \n",
       "...                                                  ...                ...   \n",
       "47320  Black ppl aren't expected to do anything, depe...          ethnicity   \n",
       "47321  Turner did not withhold his disappointment. Tu...          ethnicity   \n",
       "47322  I swear to God. This dumb nigger bitch. I have...          ethnicity   \n",
       "47323  Yea fuck you RT @therealexel: IF YOURE A NIGGE...          ethnicity   \n",
       "47324  Bro. U gotta chill RT @CHILLShrammy: Dog FUCK ...          ethnicity   \n",
       "\n",
       "                                              text_clean  \n",
       "0             in other words your food was crapilicious!  \n",
       "1                                       why is so white?  \n",
       "2           a classy whore? or more red velvet cupcakes?  \n",
       "3      meh. :p thanks for the heads up, but not too c...  \n",
       "4      this is an isis account pretending to be a kur...  \n",
       "...                                                  ...  \n",
       "47320  black ppl aren't expected to do anything, depe...  \n",
       "47321  turner did not withhold his disappointment. tu...  \n",
       "47322  i swear to god. this dumb nigger bitch. i have...  \n",
       "47323  yea fuck you rt if youre a nigger fucking unfo...  \n",
       "47324  bro. u gotta chill rt dog fuck kp that dumb ni...  \n",
       "\n",
       "[47325 rows x 3 columns]"
      ]
     },
     "execution_count": 15,
     "metadata": {},
     "output_type": "execute_result"
    }
   ],
   "source": [
    "df_bullying.dropna(inplace=True)\n",
    "df_bullying.reset_index(drop=True)"
   ]
  },
  {
   "cell_type": "markdown",
   "id": "88ce85f9-d7b9-4a2f-a453-74616a8151a0",
   "metadata": {},
   "source": [
    "## Splitting data into dependent and independent features"
   ]
  },
  {
   "cell_type": "code",
   "execution_count": 16,
   "id": "1397226e-8dec-4f72-a56d-af8620140156",
   "metadata": {},
   "outputs": [],
   "source": [
    "X = df_bullying.iloc[:,-1]\n",
    "y = df_bullying['cyberbullying_type']"
   ]
  },
  {
   "cell_type": "markdown",
   "id": "ace26131-ad8a-44fa-82ab-ce1e944d529e",
   "metadata": {},
   "source": [
    "# Splitting data into train and test"
   ]
  },
  {
   "cell_type": "code",
   "execution_count": 17,
   "id": "655c7128-c6e1-4608-b38a-10ef395a73c9",
   "metadata": {},
   "outputs": [],
   "source": [
    "X_train, X_test, y_train, y_test = train_test_split(X,y,test_size=0.2,shuffle=True)"
   ]
  },
  {
   "cell_type": "code",
   "execution_count": 18,
   "id": "1719842c-de3d-4379-ac3f-40338b918f4b",
   "metadata": {},
   "outputs": [
    {
     "data": {
      "text/plain": [
       "((37860,), (9465,), (37860,), (9465,))"
      ]
     },
     "execution_count": 18,
     "metadata": {},
     "output_type": "execute_result"
    }
   ],
   "source": [
    "X_train.shape, X_test.shape, y_train.shape, y_test.shape"
   ]
  },
  {
   "cell_type": "markdown",
   "id": "6123e582-2cc5-4db6-a26d-1ee63d7d05ca",
   "metadata": {},
   "source": [
    "# Encoding labels"
   ]
  },
  {
   "cell_type": "code",
   "execution_count": 19,
   "id": "cd667ac2-6ccb-48f6-9318-17fefa9eee56",
   "metadata": {},
   "outputs": [],
   "source": [
    "encoder = LabelEncoder()\n",
    "y_train_encoded = encoder.fit_transform(y_train)\n",
    "y_test_encoded = encoder.transform(y_test)"
   ]
  },
  {
   "cell_type": "markdown",
   "id": "59f88f88-2ddf-4881-b364-5e8c242fb1fb",
   "metadata": {},
   "source": [
    "## Creation of an helper function for model results"
   ]
  },
  {
   "cell_type": "code",
   "execution_count": 20,
   "id": "002dd5dd-89e1-4fc7-ad8f-0e14e0ffd9a7",
   "metadata": {},
   "outputs": [],
   "source": [
    "def model_results(y_test, y_pred):\n",
    "    precision, recall,f1,_ = precision_recall_fscore_support(y_test, y_pred)\n",
    "    return {'Precision':np.mean(precision),'Recall':np.mean(recall),'F1-Score':np.mean(f1)}"
   ]
  },
  {
   "cell_type": "markdown",
   "id": "92a4c34d-0fcf-4901-a884-fe0a8d7cdb41",
   "metadata": {},
   "source": [
    "## Bag of words"
   ]
  },
  {
   "cell_type": "code",
   "execution_count": 21,
   "id": "02b30538-8d23-425b-b3fa-6ece1fe71f28",
   "metadata": {},
   "outputs": [],
   "source": [
    "vectorizer = CountVectorizer()"
   ]
  },
  {
   "cell_type": "code",
   "execution_count": 22,
   "id": "6dc65847-cc88-451a-bd45-3a6a17997eff",
   "metadata": {},
   "outputs": [],
   "source": [
    "X_train_bow = vectorizer.fit_transform(X_train)\n",
    "X_test_bow = vectorizer.transform(X_test)"
   ]
  },
  {
   "cell_type": "code",
   "execution_count": 23,
   "id": "702ff8bc-f963-4275-80d2-3646b9e1b8d9",
   "metadata": {},
   "outputs": [],
   "source": [
    "classifier=RandomForestClassifier().fit(X_train_bow, y_train)"
   ]
  },
  {
   "cell_type": "code",
   "execution_count": 24,
   "id": "0107810b-66b5-4d5e-a733-e6833be95f1c",
   "metadata": {},
   "outputs": [
    {
     "data": {
      "text/plain": [
       "0.7933438985736926"
      ]
     },
     "execution_count": 24,
     "metadata": {},
     "output_type": "execute_result"
    }
   ],
   "source": [
    "classifier.score(X_test_bow, y_test)"
   ]
  },
  {
   "cell_type": "code",
   "execution_count": 25,
   "id": "21ecd37d-7f30-410c-ba26-0e747ce723d4",
   "metadata": {},
   "outputs": [],
   "source": [
    "bow_preds = classifier.predict(X_test_bow)"
   ]
  },
  {
   "cell_type": "markdown",
   "id": "c9ade9d9-e298-43e9-bab0-e48df25abdaf",
   "metadata": {},
   "source": [
    "## TF-IDF"
   ]
  },
  {
   "cell_type": "code",
   "execution_count": 26,
   "id": "cc18909f-5c3c-4cff-8717-bdab02bb6f58",
   "metadata": {},
   "outputs": [],
   "source": [
    "tfidf = TfidfVectorizer()"
   ]
  },
  {
   "cell_type": "code",
   "execution_count": 27,
   "id": "815c54ed-5bcc-4cb2-9126-97fb4ec50b6c",
   "metadata": {},
   "outputs": [],
   "source": [
    "X_train_tfidf = tfidf.fit_transform(X_train)\n",
    "X_test_tfidf = tfidf.transform(X_test)"
   ]
  },
  {
   "cell_type": "code",
   "execution_count": 28,
   "id": "9ca6c185-9d8d-467a-b384-196238fb12b1",
   "metadata": {},
   "outputs": [],
   "source": [
    "classifier2=RandomForestClassifier().fit(X_train_tfidf, y_train)"
   ]
  },
  {
   "cell_type": "code",
   "execution_count": 29,
   "id": "c384b2db-c911-48c4-bff9-f9662e5c8bde",
   "metadata": {},
   "outputs": [
    {
     "data": {
      "text/plain": [
       "0.7888008452192288"
      ]
     },
     "execution_count": 29,
     "metadata": {},
     "output_type": "execute_result"
    }
   ],
   "source": [
    "classifier2.score(X_test_tfidf, y_test)"
   ]
  },
  {
   "cell_type": "code",
   "execution_count": 30,
   "id": "ff8d78f1-3071-444e-8382-b104b7e99f0b",
   "metadata": {},
   "outputs": [],
   "source": [
    "tfidf_preds = classifier2.predict(X_test_tfidf)"
   ]
  },
  {
   "cell_type": "markdown",
   "id": "7a5eed0d-80c7-4048-b018-6e821f4538fa",
   "metadata": {},
   "source": [
    "# Universal Sentence Encoder model"
   ]
  },
  {
   "cell_type": "code",
   "execution_count": 31,
   "id": "8d941ae2-64b8-42a4-81b5-f0622b958c5d",
   "metadata": {},
   "outputs": [],
   "source": [
    "import tensorflow_hub as hub\n",
    "embed_layer = hub.KerasLayer(\"https://www.kaggle.com/models/google/universal-sentence-encoder/TensorFlow2/large/2\",\n",
    "                             input_shape=[],name='use')"
   ]
  },
  {
   "cell_type": "markdown",
   "id": "059b6292-eaf3-4520-98bb-2c1438afb744",
   "metadata": {},
   "source": [
    "## Creation of train and test datasets"
   ]
  },
  {
   "cell_type": "code",
   "execution_count": 32,
   "id": "9fe71923-afa1-4494-a20e-a430a8e4d5e4",
   "metadata": {},
   "outputs": [],
   "source": [
    "X_train_tf = tf.data.Dataset.from_tensor_slices(X_train)\n",
    "y_train_tf = tf.data.Dataset.from_tensor_slices(y_train_encoded)\n",
    "X_test_tf = tf.data.Dataset.from_tensor_slices(X_test)\n",
    "y_test_tf = tf.data.Dataset.from_tensor_slices(y_test_encoded)"
   ]
  },
  {
   "cell_type": "code",
   "execution_count": 33,
   "id": "5e369d01-e050-43d4-844e-7be13f9a8455",
   "metadata": {},
   "outputs": [],
   "source": [
    "train_dataset = tf.data.Dataset.zip((X_train_tf, y_train_tf)).batch(32).prefetch(tf.data.AUTOTUNE) \n",
    "test_dataset = tf.data.Dataset.zip((X_test_tf, y_test_tf)).batch(32).prefetch(tf.data.AUTOTUNE) "
   ]
  },
  {
   "cell_type": "markdown",
   "id": "72fd854b-636d-45eb-a623-0787a37d8ab8",
   "metadata": {},
   "source": [
    "## Creation of some callbacks"
   ]
  },
  {
   "cell_type": "code",
   "execution_count": 34,
   "id": "17e32316-c704-47df-9275-54435505fa60",
   "metadata": {},
   "outputs": [],
   "source": [
    "reduce_lr = tf.keras.callbacks.ReduceLROnPlateau(min_lr=1e-8, patience=2)\n",
    "early_stop = tf.keras.callbacks.EarlyStopping(patience=3)"
   ]
  },
  {
   "cell_type": "markdown",
   "id": "1993d95d-1ac4-46d7-a7b7-dc9caad9f792",
   "metadata": {},
   "source": [
    "### Building model with Functional API"
   ]
  },
  {
   "cell_type": "code",
   "execution_count": 35,
   "id": "723fc5bc-558f-48be-8a95-ed9112701bcb",
   "metadata": {},
   "outputs": [
    {
     "data": {
      "text/plain": [
       "6"
      ]
     },
     "execution_count": 35,
     "metadata": {},
     "output_type": "execute_result"
    }
   ],
   "source": [
    "num_classes=len(df_bullying.cyberbullying_type.unique())\n",
    "num_classes"
   ]
  },
  {
   "cell_type": "code",
   "execution_count": 36,
   "id": "c473c550-bc2d-4953-8a80-fae44a2a695e",
   "metadata": {},
   "outputs": [],
   "source": [
    "inputs = layers.Input(shape=[], dtype=tf.string, name='input_layer')\n",
    "x = embed_layer(inputs)\n",
    "outputs = layers.Dense(num_classes, activation='softmax', name='output_layer')(x)\n",
    "model_0 = tf.keras.Model(inputs, outputs, name='sentence_encoder_model')"
   ]
  },
  {
   "cell_type": "code",
   "execution_count": 37,
   "id": "daa96bf3-11f5-4b46-9340-373f8b703738",
   "metadata": {},
   "outputs": [
    {
     "name": "stdout",
     "output_type": "stream",
     "text": [
      "Model: \"sentence_encoder_model\"\n",
      "_________________________________________________________________\n",
      " Layer (type)                Output Shape              Param #   \n",
      "=================================================================\n",
      " input_layer (InputLayer)    [(None,)]                 0         \n",
      "                                                                 \n",
      " use (KerasLayer)            (None, 512)               147354880 \n",
      "                                                                 \n",
      " output_layer (Dense)        (None, 6)                 3078      \n",
      "                                                                 \n",
      "=================================================================\n",
      "Total params: 147,357,958\n",
      "Trainable params: 3,078\n",
      "Non-trainable params: 147,354,880\n",
      "_________________________________________________________________\n"
     ]
    }
   ],
   "source": [
    "#Visualize model summary\n",
    "model_0.summary()"
   ]
  },
  {
   "cell_type": "code",
   "execution_count": 38,
   "id": "11b0029e-6558-4bfc-a969-f7cf414954c5",
   "metadata": {},
   "outputs": [],
   "source": [
    "#compile the model\n",
    "model_0.compile(loss='sparse_categorical_crossentropy',\n",
    "                optimizer=Adam(),\n",
    "                metrics=['accuracy'])"
   ]
  },
  {
   "cell_type": "code",
   "execution_count": 39,
   "id": "3e23dd64-2313-44a1-bc70-3ac38509b189",
   "metadata": {},
   "outputs": [
    {
     "name": "stdout",
     "output_type": "stream",
     "text": [
      "Epoch 1/5\n",
      "1184/1184 [==============================] - 312s 249ms/step - loss: 1.0410 - accuracy: 0.7274 - val_loss: 0.7368 - val_accuracy: 0.7628 - lr: 0.0010\n",
      "Epoch 2/5\n",
      "1184/1184 [==============================] - 288s 244ms/step - loss: 0.6401 - accuracy: 0.7932 - val_loss: 0.5993 - val_accuracy: 0.7855 - lr: 0.0010\n",
      "Epoch 3/5\n",
      "1184/1184 [==============================] - 287s 243ms/step - loss: 0.5510 - accuracy: 0.8056 - val_loss: 0.5481 - val_accuracy: 0.7983 - lr: 0.0010\n",
      "Epoch 4/5\n",
      "1184/1184 [==============================] - 286s 242ms/step - loss: 0.5108 - accuracy: 0.8143 - val_loss: 0.5221 - val_accuracy: 0.8011 - lr: 0.0010\n",
      "Epoch 5/5\n",
      "1184/1184 [==============================] - 285s 241ms/step - loss: 0.4880 - accuracy: 0.8186 - val_loss: 0.5069 - val_accuracy: 0.8054 - lr: 0.0010\n"
     ]
    }
   ],
   "source": [
    "#Fit the model\n",
    "model_0_history = model_0.fit(train_dataset,\n",
    "                              steps_per_epoch=len(train_dataset),\n",
    "                              validation_data=test_dataset,\n",
    "                              validation_steps=int(0.15*len(test_dataset)),#validates only on 15% of test data\n",
    "                              epochs=5, callbacks=[early_stop,reduce_lr])"
   ]
  },
  {
   "cell_type": "code",
   "execution_count": 40,
   "id": "d6fbb402-d6ae-4ac7-b259-347b5c21e4ff",
   "metadata": {},
   "outputs": [
    {
     "name": "stdout",
     "output_type": "stream",
     "text": [
      "296/296 [==============================] - 71s 240ms/step - loss: 0.4906 - accuracy: 0.8116\n"
     ]
    },
    {
     "data": {
      "text/plain": [
       "[0.4905882179737091, 0.8116217851638794]"
      ]
     },
     "execution_count": 40,
     "metadata": {},
     "output_type": "execute_result"
    }
   ],
   "source": [
    "model_0.evaluate(test_dataset)"
   ]
  },
  {
   "cell_type": "code",
   "execution_count": 41,
   "id": "28593c10-3981-4de0-aabc-4c07eb5b4a56",
   "metadata": {},
   "outputs": [
    {
     "name": "stdout",
     "output_type": "stream",
     "text": [
      "296/296 [==============================] - 76s 241ms/step\n"
     ]
    }
   ],
   "source": [
    "y_pred_probs = model_0.predict(test_dataset)\n",
    "y_preds_use = tf.argmax(y_pred_probs, axis=1) "
   ]
  },
  {
   "cell_type": "markdown",
   "id": "596f7800-00f2-40b1-adda-4716bed05c07",
   "metadata": {},
   "source": [
    "## Plotting all results"
   ]
  },
  {
   "cell_type": "code",
   "execution_count": 42,
   "id": "f948c3aa-88ac-4891-8d75-6aa8e24cf809",
   "metadata": {},
   "outputs": [],
   "source": [
    "bow_results = model_results(y_test,bow_preds)\n",
    "tfidf_results = model_results(y_test,tfidf_preds)\n",
    "use_results = model_results(y_test_encoded, y_preds_use)"
   ]
  },
  {
   "cell_type": "code",
   "execution_count": 43,
   "id": "39886a2a-fcaa-4d48-a7f7-e8bb7a733f81",
   "metadata": {},
   "outputs": [],
   "source": [
    "all_results = pd.DataFrame({'RandForest BOW':bow_results,'RandForest TF-IDF':tfidf_results,'UniversalSentenceEncoder':use_results}).transpose()"
   ]
  },
  {
   "cell_type": "code",
   "execution_count": 44,
   "id": "8642ce08-9263-4dcb-9b03-42a5b1b7c436",
   "metadata": {},
   "outputs": [
    {
     "data": {
      "image/png": "[encoded data removed]",
      "text/plain": [
       "<Figure size 1000x500 with 1 Axes>"
      ]
     },
     "metadata": {},
     "output_type": "display_data"
    }
   ],
   "source": [
    "all_results.plot(kind='barh', title='Cyberbullying Classification Model Results', figsize=(10,5)).legend(bbox_to_anchor=(1.,1.));"
   ]
  },
  {
   "cell_type": "markdown",
   "id": "597ac593-6760-4975-a3c2-7e7e9c248a9a",
   "metadata": {},
   "source": [
    "## BOW"
   ]
  },
  {
   "cell_type": "code",
   "execution_count": 45,
   "id": "c7f82928-59f4-4a2f-b160-b266fadeaf90",
   "metadata": {},
   "outputs": [
    {
     "data": {
      "image/png": "[encoded data removed]",
      "text/plain": [
       "<Figure size 640x480 with 2 Axes>"
      ]
     },
     "metadata": {},
     "output_type": "display_data"
    },
    {
     "name": "stdout",
     "output_type": "stream",
     "text": [
      "                     precision    recall  f1-score   support\n",
      "\n",
      "                age       0.96      0.97      0.97      1637\n",
      "          ethnicity       0.97      0.97      0.97      1538\n",
      "             gender       0.89      0.80      0.84      1519\n",
      "  not_cyberbullying       0.50      0.47      0.49      1583\n",
      "other_cyberbullying       0.50      0.58      0.54      1533\n",
      "           religion       0.96      0.94      0.95      1655\n",
      "\n",
      "           accuracy                           0.79      9465\n",
      "          macro avg       0.80      0.79      0.79      9465\n",
      "       weighted avg       0.80      0.79      0.80      9465\n",
      "\n"
     ]
    }
   ],
   "source": [
    "cm=confusion_matrix(y_test, bow_preds)\n",
    "disp=ConfusionMatrixDisplay(cm)\n",
    "disp.plot()\n",
    "plt.show()\n",
    "print(classification_report(y_test, bow_preds))"
   ]
  },
  {
   "cell_type": "markdown",
   "id": "4957296a-8a46-4064-8a8a-bcd16eaba117",
   "metadata": {},
   "source": [
    "## TF-IDF"
   ]
  },
  {
   "cell_type": "code",
   "execution_count": 46,
   "id": "9f0d267f-4d32-4f5e-8dd0-8f2008728428",
   "metadata": {},
   "outputs": [
    {
     "data": {
      "image/png": "[encoded data removed]",
      "text/plain": [
       "<Figure size 640x480 with 2 Axes>"
      ]
     },
     "metadata": {},
     "output_type": "display_data"
    },
    {
     "name": "stdout",
     "output_type": "stream",
     "text": [
      "                     precision    recall  f1-score   support\n",
      "\n",
      "                age       0.95      0.98      0.96      1637\n",
      "          ethnicity       0.98      0.97      0.98      1538\n",
      "             gender       0.89      0.79      0.84      1519\n",
      "  not_cyberbullying       0.49      0.49      0.49      1583\n",
      "other_cyberbullying       0.49      0.54      0.52      1533\n",
      "           religion       0.96      0.94      0.95      1655\n",
      "\n",
      "           accuracy                           0.79      9465\n",
      "          macro avg       0.79      0.79      0.79      9465\n",
      "       weighted avg       0.79      0.79      0.79      9465\n",
      "\n"
     ]
    }
   ],
   "source": [
    "cm=confusion_matrix(y_test, tfidf_preds)\n",
    "disp=ConfusionMatrixDisplay(cm)\n",
    "disp.plot()\n",
    "plt.show()\n",
    "print(classification_report(y_test, tfidf_preds))"
   ]
  },
  {
   "cell_type": "markdown",
   "id": "026df998-f9ef-4828-a180-05733fa08857",
   "metadata": {},
   "source": [
    "## Universal Sentence Encoder"
   ]
  },
  {
   "cell_type": "code",
   "execution_count": 47,
   "id": "aeb19a08-f60c-431a-8ffe-894cd1967760",
   "metadata": {},
   "outputs": [
    {
     "data": {
      "image/png": "[encoded data removed]",
      "text/plain": [
       "<Figure size 640x480 with 2 Axes>"
      ]
     },
     "metadata": {},
     "output_type": "display_data"
    },
    {
     "name": "stdout",
     "output_type": "stream",
     "text": [
      "                     precision    recall  f1-score   support\n",
      "\n",
      "  not_cyberbullying       0.93      0.96      0.94      1637\n",
      "             gender       0.94      0.93      0.93      1538\n",
      "           religion       0.84      0.83      0.84      1519\n",
      "other_cyberbullying       0.61      0.55      0.58      1583\n",
      "                age       0.60      0.64      0.62      1533\n",
      "          ethnicity       0.93      0.96      0.94      1655\n",
      "\n",
      "           accuracy                           0.81      9465\n",
      "          macro avg       0.81      0.81      0.81      9465\n",
      "       weighted avg       0.81      0.81      0.81      9465\n",
      "\n"
     ]
    }
   ],
   "source": [
    "cm=confusion_matrix(y_test_encoded, y_preds_use)\n",
    "disp=ConfusionMatrixDisplay(cm)\n",
    "disp.plot()\n",
    "plt.show()\n",
    "print(classification_report(y_test_encoded, y_preds_use,target_names=df_bullying.cyberbullying_type.unique()))"
   ]
  }
 ],
 "metadata": {
  "kernelspec": {
   "display_name": "Python 3 (ipykernel)",
   "language": "python",
   "name": "python3"
  },
  "language_info": {
   "codemirror_mode": {
    "name": "ipython",
    "version": 3
   },
   "file_extension": ".py",
   "mimetype": "text/x-python",
   "name": "python",
   "nbconvert_exporter": "python",
   "pygments_lexer": "ipython3",
   "version": "3.11.7"
  }
 },
 "nbformat": 4,
 "nbformat_minor": 5
}
